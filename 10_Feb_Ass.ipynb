{
 "cells": [
  {
   "cell_type": "code",
   "execution_count": 2,
   "id": "522ba5c0-a1d8-4b98-91b8-faacd66f2b2a",
   "metadata": {},
   "outputs": [],
   "source": [
    "                          ASSIGNMENT-10Feb(oops part-4)"
   ]
  },
  {
   "cell_type": "code",
   "execution_count": null,
   "id": "1efb59d7-5942-40fc-bae6-08ef4e6eadcf",
   "metadata": {},
   "outputs": [],
   "source": [
    "Q1. Which function is used to open a file? What are the different modes of opening a file?\n",
    "    Explain each modeof file opening.\n",
    "ans->There are many modes for opening a file: r - open a file in read mode.\n",
    "     w - opens or create a text file in write mode.\n",
    "     a - opens a file in append mode."
   ]
  },
  {
   "cell_type": "code",
   "execution_count": null,
   "id": "32a36169-ff8c-4397-867e-ded358f795e5",
   "metadata": {},
   "outputs": [],
   "source": []
  },
  {
   "cell_type": "code",
   "execution_count": null,
   "id": "bac5bb0c-d1a8-4020-905c-0a27ae3572e5",
   "metadata": {},
   "outputs": [],
   "source": [
    "Q2. Why close() function is used? Why is it important to close a file?\n",
    "ans->The close() method closes an open file. You should always close your files, in some cases, \n",
    "     due to buffering, changes made to a file may not show until you close the file."
   ]
  },
  {
   "cell_type": "code",
   "execution_count": null,
   "id": "8dd18f99-0eb9-4698-a3a2-a62e3da7602e",
   "metadata": {},
   "outputs": [],
   "source": []
  },
  {
   "cell_type": "code",
   "execution_count": null,
   "id": "e258bbe4-8ec4-4f33-a5e2-9d70bb8b630a",
   "metadata": {},
   "outputs": [],
   "source": [
    "Q3. Write a python program to create a text file. Write ‘I want to become a Data \n",
    "   Scientist’ in that file. Thenclose the file. Open this file and read the content of\n",
    "   the file.\n",
    "ans->x\" – Create: this command will create a new file if and only if there is no file already in existence with\n",
    "         that name or else it will return an error.\n",
    "      f = open(\"myfile.txt\", \"i want to become a data scientist\")"
   ]
  },
  {
   "cell_type": "code",
   "execution_count": null,
   "id": "6bf8912a-ddc2-42ad-85bf-89d6843fae0a",
   "metadata": {},
   "outputs": [],
   "source": []
  },
  {
   "cell_type": "code",
   "execution_count": null,
   "id": "79aa6824-53df-477d-95db-08f6d5b218d3",
   "metadata": {},
   "outputs": [],
   "source": [
    "Q4.Explain the following with python code: read(), readline() and readlines().\n",
    "ans->Python read, readline and readlines | Differences\n",
    "   Python allows you to read the contents of a file using methods such as:\n",
    "\n",
    "  1. read()\n",
    "  2. readline()\n",
    "  3. readlines()\n",
    "  1. The read method reads the entire contents of a file and returns it as a string.\n",
    "      with open(\"file.txt\", \"r\") as file:\n",
    "    content = file.read()\n",
    "    print(content)\n",
    "\n",
    "  2. The readline method reads a single line from a file and returns it as a string.  \n",
    "    This means that if you use readline, you can read the contents of a file line by \n",
    "     line, which can be usefulfor processing large files that do not fit in memory.   \n",
    "        with open(\"file.txt\", \"r\") as file:\n",
    "    line = file.readline()\n",
    "    while line:\n",
    "        print(line.strip())\n",
    "        line = file.readline()\n",
    "\n",
    "   3.he readline method reads a single line from a file and returns it as a string, while the\n",
    "    readlines method reads the entire contents of a file and returns it as a list of strings, where\n",
    "    each element of the list is a single line of the file.\n",
    "\n",
    "You can see the difference of readline() and readlines() methods from the following example:\n",
    "    line = f.readline()\n",
    "    print(line)# Prints the first line of the file\n",
    "    lines = f.readlines()\n",
    "    print(lines) # Prints a list of all the lines in the file after the first line\n"
   ]
  },
  {
   "cell_type": "code",
   "execution_count": null,
   "id": "a3e30567-960c-4af2-a4a6-90f0bb6491fd",
   "metadata": {},
   "outputs": [],
   "source": []
  },
  {
   "cell_type": "code",
   "execution_count": null,
   "id": "573d9612-791e-4f64-a467-6b14ce9d50a5",
   "metadata": {},
   "outputs": [],
   "source": [
    "Q5. Explain why with statement is used with open(). What is the advantage of using with statement and\n",
    "open() together?\n",
    "ans->The with statement works with the open() function to open a file. Unlike open() where you have\n",
    "    to close the file with the close() method, the with statement closes the file for you without you telling \n",
    "    it to. This is because the with statement calls 2 built-in methods behind the scene – __enter()__\n",
    "    and __exit()__"
   ]
  },
  {
   "cell_type": "code",
   "execution_count": null,
   "id": "4f1e5afa-fc3a-4d34-9b83-00db712164ef",
   "metadata": {},
   "outputs": [],
   "source": []
  },
  {
   "cell_type": "code",
   "execution_count": null,
   "id": "9dd23286-5554-4e98-8987-ba4daa5506fe",
   "metadata": {},
   "outputs": [],
   "source": [
    "Q6.Explain the write() and writelines() functions. Give a suitable example.\n",
    "ams->The write() function will write the content in the file without adding any\n",
    "     extra characters.\n",
    "     eg.# file = open(\"Employees.txt\", \"w\")\n",
    "\n",
    "      for i in range(3):\n",
    "          name = input(\"Enter the name of the employee: \")\n",
    "         file.write(name)\n",
    "         file.write(\"\\n\")\n",
    "\t\n",
    "        file.close()\n",
    "\n",
    "        print(\"Data is written into the file.\")\n",
    "\n",
    "  2.  This function writes the content of a list to a file.\n",
    "eg.file1 = open(\"Employees.txt\", \"w\")\n",
    "lst = []\n",
    "for i in range(3):\n",
    "\tname = input(\"Enter the name of the employee: \")\n",
    "\tlst.append(name + '\\n')\n",
    "\t\n",
    "file1.writelines(lst)\n",
    "file1.close()\n",
    "print(\"Data is written into the file.\")\n"
   ]
  }
 ],
 "metadata": {
  "kernelspec": {
   "display_name": "Python 3 (ipykernel)",
   "language": "python",
   "name": "python3"
  },
  "language_info": {
   "codemirror_mode": {
    "name": "ipython",
    "version": 3
   },
   "file_extension": ".py",
   "mimetype": "text/x-python",
   "name": "python",
   "nbconvert_exporter": "python",
   "pygments_lexer": "ipython3",
   "version": "3.10.8"
  }
 },
 "nbformat": 4,
 "nbformat_minor": 5
}
